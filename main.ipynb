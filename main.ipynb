{
 "cells": [
  {
   "cell_type": "code",
   "execution_count": 1,
   "metadata": {},
   "outputs": [],
   "source": [
    "import numpy as np\n",
    "from sklearn.metrics import mean_absolute_error"
   ]
  },
  {
   "cell_type": "code",
   "execution_count": 2,
   "metadata": {},
   "outputs": [
    {
     "name": "stdout",
     "output_type": "stream",
     "text": [
      "[[  1   1   1]\n",
      " [  1   2   2]\n",
      " [  1   3   3]\n",
      " [  1   4   4]\n",
      " [  1   5   5]\n",
      " [  1   6   6]\n",
      " [  1   7   7]\n",
      " [  1   8   8]\n",
      " [  1   9   9]\n",
      " [  1  10  10]\n",
      " [  2   1   2]\n",
      " [  2   2   4]\n",
      " [  2   3   6]\n",
      " [  2   4   8]\n",
      " [  2   5  10]\n",
      " [  2   6  12]\n",
      " [  2   7  14]\n",
      " [  2   8  16]\n",
      " [  2   9  18]\n",
      " [  2  10  20]\n",
      " [  3   1   3]\n",
      " [  3   2   6]\n",
      " [  3   3   9]\n",
      " [  3   4  12]\n",
      " [  3   5  15]\n",
      " [  3   6  18]\n",
      " [  3   7  21]\n",
      " [  3   8  24]\n",
      " [  3   9  27]\n",
      " [  3  10  30]\n",
      " [  4   1   4]\n",
      " [  4   2   8]\n",
      " [  4   3  12]\n",
      " [  4   4  16]\n",
      " [  4   5  20]\n",
      " [  4   6  24]\n",
      " [  4   7  28]\n",
      " [  4   8  32]\n",
      " [  4   9  36]\n",
      " [  4  10  40]\n",
      " [  5   1   5]\n",
      " [  5   2  10]\n",
      " [  5   3  15]\n",
      " [  5   4  20]\n",
      " [  5   5  25]\n",
      " [  5   6  30]\n",
      " [  5   7  35]\n",
      " [  5   8  40]\n",
      " [  5   9  45]\n",
      " [  5  10  50]\n",
      " [  6   1   6]\n",
      " [  6   2  12]\n",
      " [  6   3  18]\n",
      " [  6   4  24]\n",
      " [  6   5  30]\n",
      " [  6   6  36]\n",
      " [  6   7  42]\n",
      " [  6   8  48]\n",
      " [  6   9  54]\n",
      " [  6  10  60]\n",
      " [  7   1   7]\n",
      " [  7   2  14]\n",
      " [  7   3  21]\n",
      " [  7   4  28]\n",
      " [  7   5  35]\n",
      " [  7   6  42]\n",
      " [  7   7  49]\n",
      " [  7   8  56]\n",
      " [  7   9  63]\n",
      " [  7  10  70]\n",
      " [  8   1   8]\n",
      " [  8   2  16]\n",
      " [  8   3  24]\n",
      " [  8   4  32]\n",
      " [  8   5  40]\n",
      " [  8   6  48]\n",
      " [  8   7  56]\n",
      " [  8   8  64]\n",
      " [  8   9  72]\n",
      " [  8  10  80]\n",
      " [  9   1   9]\n",
      " [  9   2  18]\n",
      " [  9   3  27]\n",
      " [  9   4  36]\n",
      " [  9   5  45]\n",
      " [  9   6  54]\n",
      " [  9   7  63]\n",
      " [  9   8  72]\n",
      " [  9   9  81]\n",
      " [  9  10  90]\n",
      " [ 10   1  10]\n",
      " [ 10   2  20]\n",
      " [ 10   3  30]\n",
      " [ 10   4  40]\n",
      " [ 10   5  50]\n",
      " [ 10   6  60]\n",
      " [ 10   7  70]\n",
      " [ 10   8  80]\n",
      " [ 10   9  90]\n",
      " [ 10  10 100]]\n"
     ]
    }
   ],
   "source": [
    "# Creating dataset\n",
    "rows, cols = 10, 10\n",
    "dataset = []\n",
    "\n",
    "for i in range(1, rows + 1):\n",
    "    for j in range(1, cols +1 ):\n",
    "        dataset.append([i, j, i * j])\n",
    "\n",
    "dataset = np.array(dataset)\n",
    "print(dataset)"
   ]
  },
  {
   "cell_type": "code",
   "execution_count": 3,
   "metadata": {},
   "outputs": [],
   "source": [
    "# Normalizing dataset\n",
    "normalized = dataset / 100"
   ]
  },
  {
   "cell_type": "code",
   "execution_count": 4,
   "metadata": {},
   "outputs": [],
   "source": [
    "# Shuffle and split dataset\n",
    "np.random.shuffle(normalized)\n",
    "\n",
    "# Calculate split index\n",
    "split_ratio = 0.7\n",
    "split_i= int(len(normalized) * split_ratio)\n",
    "\n",
    "# Split the dataset\n",
    "train_data = normalized[:split_i]\n",
    "test_data = normalized[split_i:]\n",
    "\n"
   ]
  },
  {
   "cell_type": "code",
   "execution_count": 5,
   "metadata": {},
   "outputs": [],
   "source": [
    "# Parameters\n",
    "input_size = 2\n",
    "hidden_size = 8\n",
    "output_size = 1\n",
    "learning_rate = 0.03\n",
    "epochs = 10000 "
   ]
  },
  {
   "cell_type": "code",
   "execution_count": 6,
   "metadata": {},
   "outputs": [],
   "source": [
    "#  initializing weights\n",
    "hidden_input = np.random.uniform(low=-np.sqrt(6 / (input_size + hidden_size)),\n",
    "                                          high=np.sqrt(6 / (input_size + hidden_size)),\n",
    "                                          size=(input_size, hidden_size))\n",
    "\n",
    "hidden_output = np.random.uniform(low=-np.sqrt(6 / (hidden_size + output_size)),\n",
    "                                           high=np.sqrt(6 / (hidden_size + output_size)),\n",
    "                                           size=(hidden_size, output_size))"
   ]
  },
  {
   "cell_type": "code",
   "execution_count": null,
   "metadata": {},
   "outputs": [],
   "source": [
    "# Initialize biases to zero\n",
    "bias_hidden = np.zeros((1, hidden_size))\n",
    "bias_output = np.zeros((1, output_size))"
   ]
  },
  {
   "cell_type": "code",
   "execution_count": null,
   "metadata": {},
   "outputs": [],
   "source": [
    "# Sigmoid activation function\n",
    "def sigmoid(x):\n",
    "    return 1 / (1 + np.exp(-x))"
   ]
  },
  {
   "cell_type": "code",
   "execution_count": null,
   "metadata": {},
   "outputs": [],
   "source": [
    "# Derivative of the sigmoid activation function\n",
    "def sigmoid_derivative(x):\n",
    "    return x * (1 - x)"
   ]
  },
  {
   "cell_type": "code",
   "execution_count": null,
   "metadata": {},
   "outputs": [],
   "source": [
    "# Training\n",
    "for epoch in range(epochs):\n",
    "    # Forward pass\n",
    "    hidden_layer_input = np.dot(train_data[:, :input_size], hidden_input) + bias_hidden\n",
    "    hidden_layer_output = sigmoid(hidden_layer_input)\n",
    "\n",
    "    output_layer_input = np.dot(hidden_layer_output, hidden_output) + bias_output\n",
    "    predicted_output = sigmoid(output_layer_input)\n",
    "\n",
    "    # Error calculation\n",
    "    error = train_data[:, input_size:] - predicted_output\n",
    "\n",
    "    # Backpropagation\n",
    "    output_delta = error * sigmoid_derivative(predicted_output)\n",
    "    hidden_error = output_delta.dot(hidden_output.T)\n",
    "    hidden_delta = hidden_error * sigmoid_derivative(hidden_layer_output)\n",
    "\n",
    "    # Update weights and biases\n",
    "    hidden_output += hidden_layer_output.T.dot(output_delta) * learning_rate\n",
    "    hidden_input += train_data[:, :input_size].T.dot(hidden_delta) * learning_rate\n",
    "\n",
    "    print(f\"Error: {error}\")"
   ]
  },
  {
   "cell_type": "code",
   "execution_count": null,
   "metadata": {},
   "outputs": [
    {
     "name": "stdout",
     "output_type": "stream",
     "text": [
      " 9.0 x 3.0 Predicted: 29.99, Real: 27.00, Mean Absolute Error: 2.9900\n",
      " 4.0 x 8.0 Predicted: 30.13, Real: 32.00, Mean Absolute Error: 1.8674\n",
      " 6.0 x 4.0 Predicted: 17.52, Real: 24.00, Mean Absolute Error: 6.4769\n",
      " 10.0 x 6.0 Predicted: 62.84, Real: 60.00, Mean Absolute Error: 2.8433\n",
      " 1.0 x 2.0 Predicted: 1.67, Real: 2.00, Mean Absolute Error: 0.3330\n",
      " 2.0 x 8.0 Predicted: 17.59, Real: 16.00, Mean Absolute Error: 1.5935\n",
      " 8.0 x 7.000000000000001 Predicted: 54.73, Real: 56.00, Mean Absolute Error: 1.2676\n",
      " 8.0 x 1.0 Predicted: 12.92, Real: 8.00, Mean Absolute Error: 4.9162\n",
      " 3.0 x 9.0 Predicted: 30.16, Real: 27.00, Mean Absolute Error: 3.1564\n",
      " 6.0 x 9.0 Predicted: 54.80, Real: 54.00, Mean Absolute Error: 0.7989\n",
      " 6.0 x 6.0 Predicted: 30.08, Real: 36.00, Mean Absolute Error: 5.9197\n",
      " 1.0 x 6.0 Predicted: 6.79, Real: 6.00, Mean Absolute Error: 0.7924\n",
      " 5.0 x 8.0 Predicted: 37.90, Real: 40.00, Mean Absolute Error: 2.0978\n",
      " 5.0 x 10.0 Predicted: 54.83, Real: 50.00, Mean Absolute Error: 4.8287\n",
      " 5.0 x 6.0 Predicted: 23.26, Real: 30.00, Mean Absolute Error: 6.7383\n",
      " 6.0 x 10.0 Predicted: 62.98, Real: 60.00, Mean Absolute Error: 2.9752\n",
      " 1.0 x 5.0 Predicted: 4.83, Real: 5.00, Mean Absolute Error: 0.1734\n",
      " 8.0 x 9.0 Predicted: 70.34, Real: 72.00, Mean Absolute Error: 1.6609\n",
      " 4.0 x 5.0 Predicted: 12.98, Real: 20.00, Mean Absolute Error: 7.0229\n",
      " 3.0 x 1.0 Predicted: 2.38, Real: 3.00, Mean Absolute Error: 0.6186\n",
      " 7.000000000000001 x 10.0 Predicted: 70.37, Real: 70.00, Mean Absolute Error: 0.3671\n",
      " 3.0 x 2.0 Predicted: 3.40, Real: 6.00, Mean Absolute Error: 2.6039\n",
      " 7.000000000000001 x 3.0 Predicted: 17.50, Real: 21.00, Mean Absolute Error: 3.4968\n",
      " 4.0 x 7.000000000000001 Predicted: 23.28, Real: 28.00, Mean Absolute Error: 4.7164\n",
      " 1.0 x 1.0 Predicted: 1.16, Real: 1.00, Mean Absolute Error: 0.1606\n",
      " 1.0 x 8.0 Predicted: 13.02, Real: 8.00, Mean Absolute Error: 5.0160\n",
      " 3.0 x 8.0 Predicted: 23.30, Real: 24.00, Mean Absolute Error: 0.6957\n",
      " 4.0 x 3.0 Predicted: 6.77, Real: 12.00, Mean Absolute Error: 5.2301\n",
      " 8.0 x 6.0 Predicted: 46.20, Real: 48.00, Mean Absolute Error: 1.7996\n",
      " 9.0 x 4.0 Predicted: 37.77, Real: 36.00, Mean Absolute Error: 1.7723\n"
     ]
    }
   ],
   "source": [
    "# Testing\n",
    "hidden_layer_input_test = np.dot(test_data[:, :input_size], hidden_input) + bias_hidden\n",
    "hidden_layer_output_test = sigmoid(hidden_layer_input_test)\n",
    "\n",
    "output_layer_input_test = np.dot(hidden_layer_output_test, hidden_output) + bias_output\n",
    "predicted_output_test = sigmoid(output_layer_input_test)\n",
    "\n",
    "# Convert predictions back to the original scale\n",
    "predicted_output_test = predicted_output_test * 100\n",
    "\n",
    "# Print real and predicted values, mean squared errors, and accuracy\n",
    "correct_predictions = 0\n",
    "\n",
    "for i in range(len(test_data)):\n",
    "    real_value = test_data[i, input_size] * 100\n",
    "    predicted_value = predicted_output_test[i, 0]\n",
    "    score = mean_absolute_error(np.array([real_value]), np.array([predicted_value]))\n",
    "    \n",
    "    print(f\" {test_data[i][0]*100} x {test_data[i][1]*100} Predicted: {predicted_value:.2f}, Real: {real_value:.2f}, Mean Absolute Error: {score:.4f}\")"
   ]
  }
 ],
 "metadata": {
  "interpreter": {
   "hash": "b89b5cfaba6639976dc87ff2fec6d58faec662063367e2c229c520fe71072417"
  },
  "kernelspec": {
   "display_name": "Python 3.10.4 64-bit",
   "language": "python",
   "name": "python3"
  },
  "language_info": {
   "codemirror_mode": {
    "name": "ipython",
    "version": 3
   },
   "file_extension": ".py",
   "mimetype": "text/x-python",
   "name": "python",
   "nbconvert_exporter": "python",
   "pygments_lexer": "ipython3",
   "version": "3.10.4"
  },
  "orig_nbformat": 4
 },
 "nbformat": 4,
 "nbformat_minor": 2
}
